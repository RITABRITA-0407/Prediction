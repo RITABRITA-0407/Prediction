{
  "nbformat": 4,
  "nbformat_minor": 0,
  "metadata": {
    "colab": {
      "provenance": [],
      "authorship_tag": "ABX9TyMdUmXpyKVdWmyfEGI6Da6J",
      "include_colab_link": true
    },
    "kernelspec": {
      "name": "python3",
      "display_name": "Python 3"
    },
    "language_info": {
      "name": "python"
    }
  },
  "cells": [
    {
      "cell_type": "markdown",
      "metadata": {
        "id": "view-in-github",
        "colab_type": "text"
      },
      "source": [
        "<a href=\"https://colab.research.google.com/github/RITABRITA-0407/Prediction/blob/main/Prediction_of_house_prices.ipynb\" target=\"_parent\"><img src=\"https://colab.research.google.com/assets/colab-badge.svg\" alt=\"Open In Colab\"/></a>"
      ]
    },
    {
      "cell_type": "markdown",
      "source": [
        "# Project 1: Predict House Prices (California Housing Dataset)\n",
        "Goal: Predict median home prices in California using linear regression."
      ],
      "metadata": {
        "id": "Ug_K1EDc8nk-"
      }
    },
    {
      "cell_type": "code",
      "execution_count": null,
      "metadata": {
        "id": "VmHNJiHVcrd7"
      },
      "outputs": [],
      "source": [
        "pip install pandas scikit-learn matplotlib seaborn"
      ]
    },
    {
      "cell_type": "code",
      "source": [
        "import pandas as pd # Data handling\n",
        "import numpy as np # Numerical operations\n",
        "import matplotlib.pyplot as plt # Plotting\n",
        "import seaborn as sns # Statistical plotting\n",
        "from sklearn.model_selection import train_test_split # For splitting data\n",
        "from sklearn.linear_model import LinearRegression # The ML model\n",
        "from sklearn.metrics import mean_squared_error, r2_score # Evaluation metrics\n",
        "from sklearn.datasets import fetch_california_housing # Dataset"
      ],
      "metadata": {
        "id": "0eDDpgwLdQaa"
      },
      "execution_count": null,
      "outputs": []
    },
    {
      "cell_type": "code",
      "source": [
        "housing = fetch_california_housing() # NOTE: In future versions of scikit-learn this may be"
      ],
      "metadata": {
        "id": "nafvO36GeC-Y"
      },
      "execution_count": null,
      "outputs": []
    },
    {
      "cell_type": "code",
      "source": [
        "# Convert to pandas DataFrame\n",
        "df = pd.DataFrame(housing.data, columns=housing.feature_names) # Features\n",
        "df['PRICE'] = housing.target # Add the target variable (median home price)"
      ],
      "metadata": {
        "id": "hKBYsrnfe7Qe"
      },
      "execution_count": null,
      "outputs": []
    },
    {
      "cell_type": "code",
      "source": [
        "# Display the first few rows of the dataset\n",
        "print(df.head())"
      ],
      "metadata": {
        "id": "2mrTxLX5f08n"
      },
      "execution_count": null,
      "outputs": []
    },
    {
      "cell_type": "code",
      "source": [
        "# View correlations between variables\n",
        "plt.figure(figsize=(12, 10))\n",
        "sns.heatmap(df.corr(), annot=True, cmap='coolwarm')\n",
        "plt.title(\"Correlation Heatmap of California Housing Data\")\n",
        "plt.show()"
      ],
      "metadata": {
        "id": "LhTdMurVf8gm"
      },
      "execution_count": null,
      "outputs": []
    },
    {
      "cell_type": "code",
      "source": [
        "# Select feature and target\n",
        "X = df[['AveRooms']] # Feature: average number of rooms\n",
        "y = df['PRICE'] # Target: median home price\n",
        "# Split into training and testing data\n",
        "X_train, X_test, y_train, y_test = train_test_split(\n",
        "X, y, test_size=0.2, random_state=42 # 80% train, 20% test\n",
        ")\n"
      ],
      "metadata": {
        "id": "LnJAFtQOgD-A"
      },
      "execution_count": null,
      "outputs": []
    },
    {
      "cell_type": "code",
      "source": [
        "# Initialize and train the linear regression model\n",
        "model = LinearRegression()\n",
        "model.fit(X_train, y_train)\n",
        "# Print the learned parameters\n",
        "print(\"Model Coefficient (slope):\", model.coef_)\n",
        "print(\"Model Intercept (bias):\", model.intercept_)"
      ],
      "metadata": {
        "id": "2WWAuxpogdTn"
      },
      "execution_count": null,
      "outputs": []
    },
    {
      "cell_type": "code",
      "source": [
        "# Predict on the test data\n",
        "y_pred = model.predict(X_test)\n",
        "# Calculate and print evaluation metrics\n",
        "mse = mean_squared_error(y_test, y_pred)\n",
        "r2 = r2_score(y_test, y_pred)\n",
        "print(\"Mean Squared Error (MSE):\", mse)\n",
        "print(\"R² Score:\", r2)\n"
      ],
      "metadata": {
        "id": "TvjM1-aWgm0t"
      },
      "execution_count": null,
      "outputs": []
    },
    {
      "cell_type": "code",
      "source": [
        "# Plot the regression line and test data\n",
        "plt.scatter(X_test, y_test, color='blue', label='Actual Prices') # Actual pri\n",
        "plt.plot(X_test, y_pred, color='red', linewidth=2, label='Predicted Prices')\n",
        "plt.xlabel('Average Number of Rooms (RM)')\n",
        "plt.ylabel('Median House Price ($1000s)')\n",
        "plt.title('Linear Regression: RM vs PRICE')\n",
        "plt.legend()\n",
        "plt.show()\n"
      ],
      "metadata": {
        "id": "4eUH3dgUguW8"
      },
      "execution_count": null,
      "outputs": []
    }
  ]
}